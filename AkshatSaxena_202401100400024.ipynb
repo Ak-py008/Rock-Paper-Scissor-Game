{
  "nbformat": 4,
  "nbformat_minor": 0,
  "metadata": {
    "colab": {
      "provenance": []
    },
    "kernelspec": {
      "name": "python3",
      "display_name": "Python 3"
    },
    "language_info": {
      "name": "python"
    }
  },
  "cells": [
    {
      "cell_type": "code",
      "source": [
        "import random\n",
        "import matplotlib.pyplot as plt\n",
        "\n",
        "def get_computer_move(history):\n",
        "    \"\"\"Returns the AI's move based on the player's history.\"\"\"\n",
        "    if not history:\n",
        "        return random.choice([\"rock\", \"paper\", \"scissors\"])\n",
        "\n",
        "    # Predict the most frequent move and counter it\n",
        "    move_counts = {\"rock\": history.count(\"rock\"), \"paper\": history.count(\"paper\"), \"scissors\": history.count(\"scissors\")}\n",
        "    prediction = max(move_counts, key=move_counts.get)\n",
        "\n",
        "    # Counter the predicted move\n",
        "    counter_moves = {\"rock\": \"paper\", \"paper\": \"scissors\", \"scissors\": \"rock\"}\n",
        "    return counter_moves[prediction]\n",
        "\n"
      ],
      "metadata": {
        "id": "VrhyvFeIUClJ"
      },
      "execution_count": 27,
      "outputs": []
    },
    {
      "cell_type": "code",
      "execution_count": 28,
      "metadata": {
        "id": "sAIr3Uo0I0-t"
      },
      "outputs": [],
      "source": [
        "def determine_winner(player_move, computer_move):\n",
        "    \"\"\"Determines the winner of the game.\"\"\"\n",
        "    if player_move == computer_move:\n",
        "        return \"It's a tie!\"\n",
        "\n",
        "    winning_moves = {\"rock\": \"scissors\", \"scissors\": \"paper\", \"paper\": \"rock\"}\n",
        "\n",
        "    if winning_moves[player_move] == computer_move:\n",
        "        return \"You win!\"\n",
        "    else:\n",
        "        return \"Computer wins!\"\n"
      ]
    },
    {
      "cell_type": "code",
      "source": [
        "from matplotlib.ticker import MaxNLocator\n",
        "\n",
        "def plot_move_history(history):\n",
        "    \"\"\"Visualizes the player's move history using matplotlib.\"\"\"\n",
        "    if not history:\n",
        "        print(\"No moves played. No graph to display.\")\n",
        "        return\n",
        "\n",
        "    move_counts = {\"rock\": history.count(\"rock\"), \"paper\": history.count(\"paper\"), \"scissors\": history.count(\"scissors\")}\n",
        "\n",
        "    plt.figure(figsize=(6,4))\n",
        "    plt.bar(move_counts.keys(), move_counts.values(), color=['red', 'blue', 'green'])\n",
        "    plt.xlabel(\"Move Type\")\n",
        "    plt.ylabel(\"Frequency\")\n",
        "    plt.title(\"Final Player Move History\")\n",
        "\n",
        "    ax = plt.gca()  # Get current axis\n",
        "    ax.yaxis.set_major_locator(MaxNLocator(integer=True))  # Ensure y-axis only shows integers\n",
        "\n",
        "    plt.ylim(0, max(move_counts.values(), default=1) + 1)  # Ensure a proper y-axis scale\n",
        "    plt.show()\n",
        "\n"
      ],
      "metadata": {
        "id": "_faRJ_kQLHQS"
      },
      "execution_count": 33,
      "outputs": []
    },
    {
      "cell_type": "code",
      "source": [
        "def determine_winner(player_move, computer_move):\n",
        "    \"\"\"Determines the winner of the game.\"\"\"\n",
        "    if player_move == computer_move:\n",
        "        return \"It's a tie!\"\n",
        "\n",
        "    winning_moves = {\"rock\": \"scissors\", \"scissors\": \"paper\", \"paper\": \"rock\"}\n",
        "\n",
        "    if winning_moves[player_move] == computer_move:\n",
        "        return \"You win!\"\n",
        "    else:\n",
        "        return \"Computer wins!\""
      ],
      "metadata": {
        "id": "ujhkJpghLuaw"
      },
      "execution_count": 30,
      "outputs": []
    },
    {
      "cell_type": "code",
      "source": [
        "\n",
        "\n",
        "def play_game():\n",
        "    \"\"\"Main function to play Rock-Paper-Scissors in Google Colab with final visualization.\"\"\"\n",
        "    history = []\n",
        "    score = {\"player\": 0, \"computer\": 0, \"ties\": 0}\n",
        "\n",
        "    while True:\n",
        "        player_move = input(\"Enter rock, paper, or scissors (or 'quit' to exit): \").lower()\n",
        "        if player_move == \"quit\":\n",
        "            print(\"Game Over!\")\n",
        "            print(f\"Final Score - You: {score['player']}, Computer: {score['computer']}, Ties: {score['ties']}\")\n",
        "            plot_move_history(history)  # Display final move history graph\n",
        "            break\n",
        "\n",
        "        if player_move not in [\"rock\", \"paper\", \"scissors\"]:\n",
        "            print(\"Invalid move. Please enter 'rock', 'paper', or 'scissors'.\")\n",
        "            continue\n",
        "\n",
        "        computer_move = get_computer_move(history)\n",
        "        print(f\"Computer chose: {computer_move}\")\n",
        "\n",
        "        result = determine_winner(player_move, computer_move)\n",
        "        print(result)\n",
        "\n",
        "        # Update score\n",
        "        if result == \"You win!\":\n",
        "            score[\"player\"] += 1\n",
        "        elif result == \"Computer wins!\":\n",
        "            score[\"computer\"] += 1\n",
        "        else:\n",
        "            score[\"ties\"] += 1\n",
        "\n",
        "        history.append(player_move)\n"
      ],
      "metadata": {
        "id": "n4Y_mbfiNYYE"
      },
      "execution_count": 31,
      "outputs": []
    },
    {
      "cell_type": "code",
      "source": [
        "# Run the game in Google Colab\n",
        "play_game()"
      ],
      "metadata": {
        "colab": {
          "base_uri": "https://localhost:8080/",
          "height": 514
        },
        "id": "VSQShFA0O6xx",
        "outputId": "e380673c-75d2-468f-bb35-a47c7125291f"
      },
      "execution_count": 34,
      "outputs": [
        {
          "output_type": "stream",
          "name": "stdout",
          "text": [
            "Enter rock, paper, or scissors (or 'quit' to exit): rock\n",
            "Computer chose: paper\n",
            "Computer wins!\n",
            "Enter rock, paper, or scissors (or 'quit' to exit): quit\n",
            "Game Over!\n",
            "Final Score - You: 0, Computer: 1, Ties: 0\n"
          ]
        },
        {
          "output_type": "display_data",
          "data": {
            "text/plain": [
              "<Figure size 600x400 with 1 Axes>"
            ],
            "image/png": "[encoded data removed]"
          },
          "metadata": {}
        }
      ]
    }
  ]
}